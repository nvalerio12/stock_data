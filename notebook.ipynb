{
 "cells": [
  {
   "cell_type": "code",
   "execution_count": null,
   "id": "overhead-sunrise",
   "metadata": {},
   "outputs": [],
   "source": [
    "from selenium import webdriver\n",
    "import datetime, re, requests, io, time, random, string\n",
    "from bs4 import BeautifulSoup\n",
    "from credentials import username, password\n",
    "from pymongo import MongoClient\n",
    "client = MongoClient('localhost', 27017)"
   ]
  },
  {
   "cell_type": "code",
   "execution_count": null,
   "id": "fossil-marsh",
   "metadata": {},
   "outputs": [],
   "source": [
    "urls = {\n",
    "      'sign_in': 'https://wallmine.com/users/sign-in',\n",
    "      'homepage': 'https://wallmine.com/',\n",
    "      'view_stock': lambda exchange, symbol: f'https://wallmine.com/{exchange}/{symbol}'\n",
    "     }"
   ]
  },
  {
   "cell_type": "code",
   "execution_count": null,
   "id": "artistic-auckland",
   "metadata": {},
   "outputs": [],
   "source": [
    "email"
   ]
  },
  {
   "cell_type": "code",
   "execution_count": null,
   "id": "professional-bermuda",
   "metadata": {},
   "outputs": [],
   "source": [
    "\"nelson.j.valerio@gmail.com\""
   ]
  },
  {
   "cell_type": "code",
   "execution_count": null,
   "id": "living-nickname",
   "metadata": {},
   "outputs": [],
   "source": [
    "driver = webdriver.Chrome('/Users/romebell/downloads/chromedriver')"
   ]
  },
  {
   "cell_type": "code",
   "execution_count": null,
   "id": "indian-maintenance",
   "metadata": {},
   "outputs": [],
   "source": [
    "def login(self):\n",
    "    '''Method used to login into Wallmine account'''"
   ]
  }
 ],
 "metadata": {
  "kernelspec": {
   "display_name": "Python 3",
   "language": "python",
   "name": "python3"
  },
  "language_info": {
   "codemirror_mode": {
    "name": "ipython",
    "version": 3
   },
   "file_extension": ".py",
   "mimetype": "text/x-python",
   "name": "python",
   "nbconvert_exporter": "python",
   "pygments_lexer": "ipython3",
   "version": "3.9.2"
  }
 },
 "nbformat": 4,
 "nbformat_minor": 5
}
